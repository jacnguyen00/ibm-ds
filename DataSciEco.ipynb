{
 "cells": [
  {
   "attachments": {},
   "cell_type": "markdown",
   "id": "338c6574",
   "metadata": {},
   "source": [
    "# Data Science Tools and Ecosystem"
   ]
  },
  {
   "attachments": {},
   "cell_type": "markdown",
   "id": "ddb0bc9c",
   "metadata": {},
   "source": [
    "## Author\n",
    "Jac Nguyen"
   ]
  },
  {
   "attachments": {},
   "cell_type": "markdown",
   "id": "98a96c7a",
   "metadata": {},
   "source": [
    "In this notebook, data science tools and ecosystems are summarized. etc etc. markdowns"
   ]
  },
  {
   "attachments": {},
   "cell_type": "markdown",
   "id": "bd67b37f",
   "metadata": {},
   "source": [
    "**Objectives**\n",
    "- popular languages in data science\n",
    "- common libraries in data science\n",
    "- open source data science tools\n"
   ]
  },
  {
   "attachments": {},
   "cell_type": "markdown",
   "id": "45edcf46",
   "metadata": {},
   "source": [
    "some of the popular languages data scienctists use are: \n",
    "1. python\n",
    "2. c++ \n",
    "3. sql"
   ]
  },
  {
   "attachments": {},
   "cell_type": "markdown",
   "id": "60e861bd",
   "metadata": {},
   "source": [
    "some of the commonly used libraries used by data scientists include: \n",
    "1. pandas\n",
    "2. numpy \n",
    "3. matplotlib"
   ]
  },
  {
   "attachments": {},
   "cell_type": "markdown",
   "id": "0aeb30ed",
   "metadata": {},
   "source": [
    "data science tools|\n",
    "------------------|\n",
    "hue|\n",
    "apache superset|\n",
    "MySQL|\n"
   ]
  },
  {
   "attachments": {},
   "cell_type": "markdown",
   "id": "6cf8cc33",
   "metadata": {},
   "source": [
    "### evaluating arithmetic expressions in python examples"
   ]
  },
  {
   "cell_type": "code",
   "execution_count": 1,
   "id": "6f27e0de",
   "metadata": {},
   "outputs": [
    {
     "data": {
      "text/plain": [
       "17"
      ]
     },
     "execution_count": 1,
     "metadata": {},
     "output_type": "execute_result"
    }
   ],
   "source": [
    "#arithmetic expression to multiply then add integers\n",
    "(3*4)+5"
   ]
  },
  {
   "cell_type": "code",
   "execution_count": 2,
   "id": "b309e59b",
   "metadata": {},
   "outputs": [
    {
     "name": "stdout",
     "output_type": "stream",
     "text": [
      "3.3333333333333335\n"
     ]
    }
   ],
   "source": [
    "#covert 200 minutes to hours by diving by 60\n",
    "minutes = 200\n",
    "hours = minutes / 60\n",
    "\n",
    "print(hours)"
   ]
  }
 ],
 "metadata": {
  "kernelspec": {
   "display_name": "Python 3 (ipykernel)",
   "language": "python",
   "name": "python3"
  },
  "language_info": {
   "codemirror_mode": {
    "name": "ipython",
    "version": 3
   },
   "file_extension": ".py",
   "mimetype": "text/x-python",
   "name": "python",
   "nbconvert_exporter": "python",
   "pygments_lexer": "ipython3",
   "version": "3.10.0"
  }
 },
 "nbformat": 4,
 "nbformat_minor": 5
}
